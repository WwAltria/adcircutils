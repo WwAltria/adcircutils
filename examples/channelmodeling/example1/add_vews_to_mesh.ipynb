{
 "cells": [
  {
   "cell_type": "code",
   "execution_count": 1,
   "metadata": {},
   "outputs": [],
   "source": [
    "import os\n",
    "import yaml\n",
    "import numpy as np\n",
    "import pandas as pd\n",
    "import matplotlib.pyplot as plt\n",
    "from adcircpy import AdcircMesh\n",
    "from adcircpy.mesh.base import Elements"
   ]
  },
  {
   "cell_type": "code",
   "execution_count": 2,
   "metadata": {},
   "outputs": [],
   "source": [
    "# Paths to the input/output files\n",
    "basedir = \"/home/sbunya/GitHub/adcircutils/adcircutils/vewchannel/examples/example1\"\n",
    "f14file = os.path.join(basedir, \"fort_without_vews.14\")\n",
    "vewfile = os.path.join(basedir, \"vewstings.yaml\")"
   ]
  },
  {
   "cell_type": "code",
   "execution_count": 3,
   "metadata": {},
   "outputs": [],
   "source": [
    "# Load the YAML file\n",
    "with open(vewfile, 'r') as file:\n",
    "    vewdata = yaml.safe_load(file)\n",
    "vewstrings = vewdata['vewstrings']"
   ]
  },
  {
   "cell_type": "code",
   "execution_count": 5,
   "metadata": {},
   "outputs": [
    {
     "name": "stderr",
     "output_type": "stream",
     "text": [
      "/home/sbunya/GitHub/adcircpy/adcircpy/mesh/parsers/grd.py:277: UserWarning: File does not contain CRS information and no CRS was given: \"/home/sbunya/GitHub/adcircutils/adcircutils/vewchannel/examples/example1/fort_without_vews.14\"\n",
      "  warnings.warn(\n"
     ]
    }
   ],
   "source": [
    "# Creating a new mesh with bank nodes\n",
    "def add_vewstring(mesh, vewstring):\n",
    "    # Dictionary to store mapping of node orders in an element\n",
    "    map_elem_node_prev = {0: 2, 1: 0, 2: 1}\n",
    "    map_elem_node_next = {0: 1, 1: 2, 2: 0}\n",
    "\n",
    "    # Create bank nodes and add them to the mesh\n",
    "    nn = mesh.nodes.shape[0]\n",
    "    map_node = {}\n",
    "    id_new = []\n",
    "    x_new = []\n",
    "    y_new = []\n",
    "    z_new = []\n",
    "\n",
    "    if len(vewstring) < 4 or (len(vewstring) < 3 and vewstring[0]['node_id'] == vewstring[-1]['node_id']):\n",
    "        raise ValueError(\n",
    "            \"The length of a vewstring is {:d}. It should be greater than 2 for an open node string \\\n",
    "             and should be greater than 2 for a closed node string.\".format(len(vewstring)))\n",
    "\n",
    "    # Add the second last node to the beginning and the second node to the end\n",
    "    # if it is the same as the last node. This ensures the beginning node is also duplicated.\n",
    "    if vewstring[0]['node_id'] == vewstring[-1]['node_id']:\n",
    "        vewstring.insert(0, vewstring[-2])\n",
    "        vewstring.append(vewstring[2])\n",
    "\n",
    "    # Add the bank nodes\n",
    "    for nodedata in vewstring[1:-1]:\n",
    "        node = nodedata['node_id']\n",
    "        if node in map_node.keys(): # Skip if the node is already added. This occurs when the node string is closed.\n",
    "            continue\n",
    "        nn += 1\n",
    "        map_node.update({node: nn})\n",
    "        id_new.append(nn)\n",
    "        x_new.append(mesh.x[node])\n",
    "        y_new.append(mesh.y[node])\n",
    "        z_new.append(nodedata['bank_elevation'])\n",
    "\n",
    "    nodes_new = pd.concat([mesh.nodes, pd.DataFrame(index=id_new, data={'x': x_new, 'y': y_new, 'value_1': z_new})])\n",
    "\n",
    "    # Update elements\n",
    "    elements = mesh.elements.elements\n",
    "    elements_new = elements.copy()\n",
    "    nodestring = [vewstring[i]['node_id'] for i in range(len(vewstring))]\n",
    "    node_elements = mesh.node_elements.copy()\n",
    "    \n",
    "    # Detaching the elements along the vewstring\n",
    "    for i in range(1, len(nodestring)-1):\n",
    "        node1 = nodestring[i-1]\n",
    "        node2 = nodestring[i]\n",
    "        node3 = nodestring[i+1]\n",
    "        \n",
    "        # Find the elements that are on the right side of the line segment that is defined by node1, node2, and node3\n",
    "        eids = [int(node) + 1 for node in node_elements[node2-1]]\n",
    "\n",
    "        # Starting from the element that contains node1, find the elements counterclose-wise until it reaches node3\n",
    "        curr_node = node1\n",
    "        eids_right = []\n",
    "        while curr_node != node3:\n",
    "            for eid in eids:\n",
    "                elem_nodes = [int(e) for e in elements.loc[eid].to_list()[1:4]]\n",
    "                if curr_node in elem_nodes:\n",
    "                    curr_index = elem_nodes.index(curr_node)\n",
    "                    if elem_nodes[map_elem_node_prev[curr_index]] == node2:\n",
    "                        break\n",
    "            eids_right.append(eid)\n",
    "            curr_node = elem_nodes[map_elem_node_next[curr_index]]\n",
    "        \n",
    "        for eid in eids_right:\n",
    "            elements_new.loc[eid, elements.columns[elements.loc[eid] == node2]] = map_node[node2]\n",
    "    \n",
    "    # Update the node ids in the boundary conditions\n",
    "    boundaries = mesh.boundaries.to_dict()\n",
    "    boundaries_new = mesh.boundaries.to_dict().copy()\n",
    "    for ibtype in boundaries.keys():\n",
    "        for i in range(len(boundaries[ibtype])):\n",
    "            # Drop the bank nodes in the boundary table\n",
    "            if ibtype is None: # open boundary\n",
    "                pass\n",
    "            elif ibtype.endswith('2'): # flow boundary\n",
    "                pass\n",
    "            elif ibtype.endswith('4'): # weir boundary\n",
    "                pass\n",
    "            elif ibtype.endswith('0'): # land boundary\n",
    "                dfbnd = pd.DataFrame(boundaries[ibtype][i]['node_id'])\n",
    "                dfbnd.replace(map_node, inplace=True)\n",
    "                boundaries_new[ibtype][i]['node_id'] = dfbnd.values.tolist()\n",
    "            else:\n",
    "                pass\n",
    "                                    \n",
    "    # Add a vew boundary\n",
    "    vew_node_id = [(str(map_node[nodestring[i]]), str(nodestring[i])) for i in range(1, len(nodestring)-1)]\n",
    "    vew_barrier_height = [vewstring[i]['bank_elevation'] + 1e-3 for i in range(1, len(nodestring)-1)]\n",
    "    vew_subcritical_flow_coefficient = [1.0 for _ in range(1, len(nodestring)-1)]\n",
    "    vew_supercritical_flow_coefficient = [1.0 for _ in range(1, len(nodestring)-1)]        \n",
    "    vewboundary_new = \\\n",
    "        {'node_id': vew_node_id,\n",
    "         'barrier_height': vew_barrier_height,\n",
    "         'subcritical_flow_coefficient': vew_subcritical_flow_coefficient,\n",
    "         'supercritical_flow_coefficient': vew_supercritical_flow_coefficient}\n",
    "    \n",
    "    vewboundaries_new = boundaries_new['64'] if '64' in boundaries_new.keys() else []\n",
    "    vewboundaries_new.append(vewboundary_new)\n",
    "    \n",
    "    boundaries_new.update({'64': vewboundaries_new})\n",
    "    \n",
    "    # Return the updated mesh   \n",
    "    return AdcircMesh(nodes=nodes_new, elements=elements_new, boundaries=boundaries_new)\n",
    "\n",
    "def add_vewstrings(mesh, vewstrings):\n",
    "    for vewstring in vewstrings:\n",
    "        mesh = add_vewstring(mesh, vewstring)\n",
    "    return mesh\n",
    "\n",
    "# Load the mesh file\n",
    "mesh = AdcircMesh.open(f14file)\n",
    "mesh_new = add_vewstrings(mesh, vewstrings)\n",
    "mesh_new.description = \"Generated by add_vew_to_mesh\"\n",
    "\n",
    "# Save the mesh file\n",
    "f14file_out = os.path.join(basedir, \"fort_with_vews.14\")\n",
    "mesh_new.write(f14file_out, overwrite=True)"
   ]
  },
  {
   "cell_type": "code",
   "execution_count": 6,
   "metadata": {},
   "outputs": [
    {
     "name": "stdout",
     "output_type": "stream",
     "text": [
      "          x       y  value_1\n",
      "id                          \n",
      "1   -1500.0     0.0     -4.0\n",
      "2   -1400.0     0.0     -4.0\n",
      "3   -1300.0     0.0     -4.0\n",
      "4   -1200.0     0.0     -4.0\n",
      "5   -1100.0     0.0     -4.0\n",
      "..      ...     ...      ...\n",
      "647  1100.0  2000.0      1.0\n",
      "648  1200.0  2000.0      1.0\n",
      "649  1300.0  2000.0      1.0\n",
      "650  1400.0  2000.0      1.0\n",
      "651  1500.0  2000.0      1.0\n",
      "\n",
      "[651 rows x 3 columns]\n",
      "          x       y  value_1\n",
      "1   -1500.0     0.0     -4.0\n",
      "2   -1400.0     0.0     -4.0\n",
      "3   -1300.0     0.0     -4.0\n",
      "4   -1200.0     0.0     -4.0\n",
      "5   -1100.0     0.0     -4.0\n",
      "..      ...     ...      ...\n",
      "772  -300.0  1000.0      2.0\n",
      "773  -300.0   900.0      2.0\n",
      "774  -300.0   800.0      2.0\n",
      "775  -300.0   700.0      2.0\n",
      "776  -300.0   600.0      1.0\n",
      "\n",
      "[776 rows x 3 columns]\n"
     ]
    }
   ],
   "source": [
    "print(mesh.nodes)\n",
    "print(mesh_new.nodes)"
   ]
  },
  {
   "cell_type": "code",
   "execution_count": 7,
   "metadata": {},
   "outputs": [
    {
     "data": {
      "text/plain": [
       "<Axes: >"
      ]
     },
     "execution_count": 7,
     "metadata": {},
     "output_type": "execute_result"
    },
    {
     "data": {
      "image/png": "[encoded data removed]",
      "text/plain": [
       "<Figure size 640x480 with 2 Axes>"
      ]
     },
     "metadata": {},
     "output_type": "display_data"
    },
    {
     "data": {
      "image/png": "[encoded data removed]",
      "text/plain": [
       "<Figure size 640x480 with 2 Axes>"
      ]
     },
     "metadata": {},
     "output_type": "display_data"
    }
   ],
   "source": [
    "# Plotting the original and new mesh\n",
    "mesh.make_plot(vmin=-4, vmax=2)\n",
    "mesh_new.make_plot(vmin=-4, vmax=2)"
   ]
  },
  {
   "cell_type": "code",
   "execution_count": 8,
   "metadata": {},
   "outputs": [
    {
     "data": {
      "text/html": [
       "<div>\n",
       "<style scoped>\n",
       "    .dataframe tbody tr th:only-of-type {\n",
       "        vertical-align: middle;\n",
       "    }\n",
       "\n",
       "    .dataframe tbody tr th {\n",
       "        vertical-align: top;\n",
       "    }\n",
       "\n",
       "    .dataframe thead th {\n",
       "        text-align: right;\n",
       "    }\n",
       "</style>\n",
       "<table border=\"1\" class=\"dataframe\">\n",
       "  <thead>\n",
       "    <tr style=\"text-align: right;\">\n",
       "      <th></th>\n",
       "      <th>value_1</th>\n",
       "    </tr>\n",
       "  </thead>\n",
       "  <tbody>\n",
       "    <tr>\n",
       "      <th>1</th>\n",
       "      <td>-4.0</td>\n",
       "    </tr>\n",
       "    <tr>\n",
       "      <th>2</th>\n",
       "      <td>-4.0</td>\n",
       "    </tr>\n",
       "    <tr>\n",
       "      <th>3</th>\n",
       "      <td>-4.0</td>\n",
       "    </tr>\n",
       "    <tr>\n",
       "      <th>4</th>\n",
       "      <td>-4.0</td>\n",
       "    </tr>\n",
       "    <tr>\n",
       "      <th>5</th>\n",
       "      <td>-4.0</td>\n",
       "    </tr>\n",
       "    <tr>\n",
       "      <th>...</th>\n",
       "      <td>...</td>\n",
       "    </tr>\n",
       "    <tr>\n",
       "      <th>772</th>\n",
       "      <td>2.0</td>\n",
       "    </tr>\n",
       "    <tr>\n",
       "      <th>773</th>\n",
       "      <td>2.0</td>\n",
       "    </tr>\n",
       "    <tr>\n",
       "      <th>774</th>\n",
       "      <td>2.0</td>\n",
       "    </tr>\n",
       "    <tr>\n",
       "      <th>775</th>\n",
       "      <td>2.0</td>\n",
       "    </tr>\n",
       "    <tr>\n",
       "      <th>776</th>\n",
       "      <td>1.0</td>\n",
       "    </tr>\n",
       "  </tbody>\n",
       "</table>\n",
       "<p>776 rows × 1 columns</p>\n",
       "</div>"
      ],
      "text/plain": [
       "     value_1\n",
       "1       -4.0\n",
       "2       -4.0\n",
       "3       -4.0\n",
       "4       -4.0\n",
       "5       -4.0\n",
       "..       ...\n",
       "772      2.0\n",
       "773      2.0\n",
       "774      2.0\n",
       "775      2.0\n",
       "776      1.0\n",
       "\n",
       "[776 rows x 1 columns]"
      ]
     },
     "execution_count": 8,
     "metadata": {},
     "output_type": "execute_result"
    }
   ],
   "source": [
    "mesh_new._values"
   ]
  },
  {
   "cell_type": "code",
   "execution_count": 6,
   "metadata": {},
   "outputs": [],
   "source": [
    "# f14file2 = \"/home/sbunya/GitHub/adcircutils/adcircutils/vewchannel/examples/example3/ncv27.05ca1.grd\"\n",
    "# f13file2 = \"/home/sbunya/GitHub/adcircutils/adcircutils/vewchannel/examples/example3/ncv27.05ca1.13\"\n",
    "# mesh2 = AdcircMesh.open(f14file2)\n",
    "# mesh2.import_nodal_attributes(f13file2)\n",
    "# condensed_nodes = mesh2.nodal_attributes.get_attribute('condensed_nodes')\n",
    "# condensed_nodes['values'].shape, mesh2.nodes.shape"
   ]
  }
 ],
 "metadata": {
  "kernelspec": {
   "display_name": "vew1d_3.11",
   "language": "python",
   "name": "python3"
  },
  "language_info": {
   "codemirror_mode": {
    "name": "ipython",
    "version": 3
   },
   "file_extension": ".py",
   "mimetype": "text/x-python",
   "name": "python",
   "nbconvert_exporter": "python",
   "pygments_lexer": "ipython3",
   "version": "3.11.10"
  }
 },
 "nbformat": 4,
 "nbformat_minor": 2
}
