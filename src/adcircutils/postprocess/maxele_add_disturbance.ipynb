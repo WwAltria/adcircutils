{
 "cells": [
  {
   "cell_type": "code",
   "execution_count": 1,
   "metadata": {},
   "outputs": [
    {
     "name": "stdout",
     "output_type": "stream",
     "text": [
      "SPST_27.05ca1_res80m_raised_slp0020005_nlim5m_usgs_nwmothers_dt2_velmin05_ccap_nrv15n0304tar_openwater02_slim001_tau005_Smag01_cn40m_swan2noswan_ERA52OWI2ERA5\n"
     ]
    },
    {
     "name": "stderr",
     "output_type": "stream",
     "text": [
      "/tmp/ipykernel_16612/988396461.py:30: UserWarning: Warning: converting a masked element to nan.\n",
      "  dst[dst_name][:] = disturbance\n"
     ]
    }
   ],
   "source": [
    "import netCDF4 as nc\n",
    "from os import path\n",
    "\n",
    "def add_disturbance(ncinfname, ncoutfname, toexclude):\n",
    "    with nc.Dataset(ncinfname) as src, nc.Dataset(ncoutfname, \"w\") as dst:\n",
    "        # copy global attributes all at once via dictionary\n",
    "        dst.setncatts(src.__dict__)\n",
    "        # copy dimensions\n",
    "        for name, dimension in src.dimensions.items():\n",
    "            dst.createDimension(\n",
    "                name, (len(dimension) if not dimension.isunlimited() else None))\n",
    "        # copy all file data except for the excluded\n",
    "        for name, variable in src.variables.items():\n",
    "            if name not in toexclude:\n",
    "                x = dst.createVariable(name, variable.datatype, variable.dimensions)\n",
    "                # copy variable attributes all at once via dictionary\n",
    "                dst[name].setncatts(src[name].__dict__)\n",
    "                dst[name][:] = src[name][:]\n",
    "\n",
    "        # add disturbance\n",
    "        dst_name = 'disturbance'\n",
    "        x = dst.createVariable(dst_name, variable.datatype, variable.dimensions)\n",
    "        attr = src['zeta_max'].__dict__\n",
    "        attr['long_name'] = 'maximum water surface elevation departure above initial condition'\n",
    "        attr['standard_name'] = 'disturbance'\n",
    "        dst[dst_name].setncatts(attr)\n",
    "        zeta_max = src['zeta_max'][:]\n",
    "        depth = src['depth'][:]\n",
    "        disturbance = [zeta_max[i] + min(depth[i], 0.0) for i in range(len(zeta_max))]\n",
    "        dst[dst_name][:] = disturbance\n",
    "\n",
    "\n",
    "basedir = \"/projects/storm_surge/COMT/sbunya/runs/EmbedVEW1DtoLargeModel/NC/Florence\"\n",
    "ncfin = \"maxele.63.nc\"\n",
    "ncfou = \"maxele_plus_d.63.nc\"\n",
    "\n",
    "cases = [\"SPST_27.05ca1_res80m_raised_slp0020005_nlim5m_usgs_nwmothers_dt2_velmin05_ccap_nrv15n0304tar_openwater02_slim001_tau005_Smag01_cn40m_swan2noswan_ERA52OWI2ERA5\"]\n",
    "\n",
    "# toexclude = ['depth', 'zeta_max', 'time_of_zeta_max']\n",
    "toexclude = []\n",
    "\n",
    "for case in cases:\n",
    "    print(case)\n",
    "    ncfname_in = path.join(basedir, case, 'maxele.63.nc')\n",
    "    ncfname_ou = path.join(basedir, case, 'maxele_disturb.63.nc')\n",
    "    add_disturbance(ncfname_in, ncfname_ou, toexclude)\n",
    "\n"
   ]
  }
 ],
 "metadata": {
  "kernelspec": {
   "display_name": "vew1d_3.10",
   "language": "python",
   "name": "python3"
  },
  "language_info": {
   "codemirror_mode": {
    "name": "ipython",
    "version": 3
   },
   "file_extension": ".py",
   "mimetype": "text/x-python",
   "name": "python",
   "nbconvert_exporter": "python",
   "pygments_lexer": "ipython3",
   "version": "3.10.13"
  },
  "orig_nbformat": 4
 },
 "nbformat": 4,
 "nbformat_minor": 2
}
