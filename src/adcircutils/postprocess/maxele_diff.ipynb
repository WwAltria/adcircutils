{
 "cells": [
  {
   "cell_type": "code",
   "execution_count": 1,
   "metadata": {},
   "outputs": [
    {
     "name": "stdout",
     "output_type": "stream",
     "text": [
      "0\n",
      "1\n",
      "2\n"
     ]
    }
   ],
   "source": [
    "import netCDF4 as nc\n",
    "from os import path\n",
    "\n",
    "def add_diff(ncinfname1, ncinfname2, ncoutfname, toexclude):\n",
    "    with nc.Dataset(ncinfname1) as src1, \\\n",
    "         nc.Dataset(ncinfname2) as src2, \\\n",
    "         nc.Dataset(ncoutfname, \"w\") as dst:\n",
    "        # copy global attributes all at once via dictionary\n",
    "        dst.setncatts(src1.__dict__)\n",
    "        # copy dimensions\n",
    "        for name, dimension in src1.dimensions.items():\n",
    "            dst.createDimension(\n",
    "                name, (len(dimension) if not dimension.isunlimited() else None))\n",
    "        # copy all file data except for the excluded\n",
    "        for name, variable in src1.variables.items():\n",
    "            if name not in toexclude:\n",
    "                x = dst.createVariable(name, variable.datatype, variable.dimensions)\n",
    "                # copy variable attributes all at once via dictionary\n",
    "                dst[name].setncatts(src1[name].__dict__)\n",
    "                dst[name][:] = src1[name][:]\n",
    "\n",
    "        # add diff\n",
    "        dst_name = 'zeta_max_diff'\n",
    "        x = dst.createVariable(dst_name, variable.datatype, variable.dimensions)\n",
    "        attr = src1['zeta_max'].__dict__\n",
    "        attr['long_name'] = 'maximum water surface elevation difference'\n",
    "        attr['standard_name'] = 'zeta_max_diff'\n",
    "        dst[dst_name].setncatts(attr)\n",
    "        zeta_max1 = src1['zeta_max'][:]\n",
    "        zeta_max2 = src2['zeta_max'][:]\n",
    "        zeta_max_diff = zeta_max1 - zeta_max2\n",
    "        dst[dst_name][:] = zeta_max_diff\n",
    "\n",
    "\n",
    "basedir = \"/projects/storm_surge/COMT/sbunya/runs/EmbedVEW1DtoLargeModel/NC/Florence\"\n",
    "\n",
    "ncfins1 = [\"SPST_27.05ca1_res80m_raised_slp0020005_nlim5m_usgs_nwmothers_dt2_velmin05_ccap_nrv15n0304tar_openwater02_slim001_tau005_Smag01_cn40m_swan2noswan_ERA52OWI2ERA5/maxele.63.nc\",\n",
    "          \"SPST_27.05ca1_res80m_raised_slp0020005_nlim5m_usgs_nwmothers_dt2_velmin05_ccap_nrv15n0304tar_openwater02_slim001_tau005_Smag01_cn40m_swan2noswan_ERA52OWI2ERA5/maxele.63.nc\",\n",
    "          \"SPST_27.05ca1_res80m_raised_slp0020005_nlim5m_usgs_nwmothers_dt2_velmin05_ccap_nrv15n0304tar_openwater02_slim001_tau005_Smag01_cn40m_swan2noswan_ERA52OWI2ERA5/maxele.63.nc\"]\n",
    "ncfins2 = [\"SPST_27.05ca1_res80m_raised_slp0020005_nlim5m_noflows_dt2_velmin05_ccap_nrv15n0304tar_openwater02_slim001_tau005_Smag01_swan2noswan_ERA52OWI2ERA5/maxele.63.nc\",\n",
    "          \"SPST_27.05ca1_res80m_raised_slp0020005_nlim5m_usgs_nwmothers_dt2_velmin05_ccap_nrv15n0304tar_openwater02_slim001_tau005_Smag01_cn40m_swan2noswan_nomet/maxele.63.nc\",\n",
    "          \"SPST_27.05ca1_res80m_raised_slp0020005_nlim5m_noflows_dt2_velmin05_ccap_nrv15n0304tar_openwater02_slim001_tau005_Smag01_swan2noswan_ERA52OWI2ERA5/maxele_max_costal_and_runoff.63.nc\"]\n",
    "ncfous = [\"SPST_27.05ca1_res80m_raised_slp0020005_nlim5m_usgs_nwmothers_dt2_velmin05_ccap_nrv15n0304tar_openwater02_slim001_tau005_Smag01_cn40m_swan2noswan_ERA52OWI2ERA5/maxele_diff_compound-coastal.63.nc\",\n",
    "          \"SPST_27.05ca1_res80m_raised_slp0020005_nlim5m_usgs_nwmothers_dt2_velmin05_ccap_nrv15n0304tar_openwater02_slim001_tau005_Smag01_cn40m_swan2noswan_ERA52OWI2ERA5/maxele_diff_compound-runoff.63.nc\",\n",
    "          \"SPST_27.05ca1_res80m_raised_slp0020005_nlim5m_usgs_nwmothers_dt2_velmin05_ccap_nrv15n0304tar_openwater02_slim001_tau005_Smag01_cn40m_swan2noswan_ERA52OWI2ERA5/maxele_diff_compound-max_coastal_and_runoff.63.nc\"]\n",
    "\n",
    "# toexclude = ['depth', 'zeta_max', 'time_of_zeta_max']\n",
    "toexclude = []\n",
    "\n",
    "for i in range(len(ncfins1)):\n",
    "    print(i)\n",
    "    ncfname_in1 = path.join(basedir, ncfins1[i])\n",
    "    ncfname_in2 = path.join(basedir, ncfins2[i])\n",
    "    ncfname_ou = path.join(basedir, ncfous[i])\n",
    "    add_diff(ncfname_in1, ncfname_in2, ncfname_ou, toexclude)\n",
    "\n"
   ]
  }
 ],
 "metadata": {
  "kernelspec": {
   "display_name": "vew1d_3.11",
   "language": "python",
   "name": "python3"
  },
  "language_info": {
   "codemirror_mode": {
    "name": "ipython",
    "version": 3
   },
   "file_extension": ".py",
   "mimetype": "text/x-python",
   "name": "python",
   "nbconvert_exporter": "python",
   "pygments_lexer": "ipython3",
   "version": "3.11.10"
  },
  "orig_nbformat": 4
 },
 "nbformat": 4,
 "nbformat_minor": 2
}
