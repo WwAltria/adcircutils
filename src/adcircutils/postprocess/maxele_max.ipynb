{
 "cells": [
  {
   "cell_type": "code",
   "execution_count": null,
   "metadata": {},
   "outputs": [
    {
     "name": "stdout",
     "output_type": "stream",
     "text": [
      "0\n",
      "length of zeta_max_of_max:  779104\n"
     ]
    }
   ],
   "source": [
    "import netCDF4 as nc\n",
    "import numpy as np\n",
    "from os import path\n",
    "\n",
    "def add_max_of_max(ncinfname1, ncinfname2, ncoutfname, toexclude):\n",
    "    with nc.Dataset(ncinfname1) as src1, \\\n",
    "         nc.Dataset(ncinfname2) as src2, \\\n",
    "         nc.Dataset(ncoutfname, \"w\") as dst:\n",
    "        # copy global attributes all at once via dictionary\n",
    "        dst.setncatts(src1.__dict__)\n",
    "        # copy dimensions\n",
    "        for name, dimension in src1.dimensions.items():\n",
    "            dst.createDimension(\n",
    "                name, (len(dimension) if not dimension.isunlimited() else None))\n",
    "        # copy all file data except for the excluded\n",
    "        for name, variable in src1.variables.items():\n",
    "            if name not in toexclude:\n",
    "                x = dst.createVariable(name, variable.datatype, variable.dimensions)\n",
    "                # copy variable attributes all at once via dictionary\n",
    "                dst[name].setncatts(src1[name].__dict__)\n",
    "                dst[name][:] = src1[name][:]\n",
    "\n",
    "        # add max_of_max\n",
    "        dst_name = 'zeta_max'\n",
    "        zeta_max1 = src1['zeta_max'][:]\n",
    "        zeta_max2 = src2['zeta_max'][:]\n",
    "        zeta_max_of_max = np.nanmax([zeta_max1, zeta_max2], axis=0)\n",
    "        dst[dst_name][:] = zeta_max_of_max\n",
    "\n",
    "\n",
    "basedir = \"/projects/storm_surge/COMT/sbunya/runs/EmbedVEW1DtoLargeModel/NC/Florence\"\n",
    "ncfin = \"maxele.63.nc\"\n",
    "\n",
    "cases1 = [\"SPST_27.05ca1_res80m_raised_slp0020005_nlim5m_noflows_dt2_velmin05_ccap_nrv15n0304tar_openwater02_slim001_tau005_Smag01_swan2noswan_ERA52OWI2ERA5\"]\n",
    "cases2 = [\"SPST_27.05ca1_res80m_raised_slp0020005_nlim5m_usgs_nwmothers_dt2_velmin05_ccap_nrv15n0304tar_openwater02_slim001_tau005_Smag01_cn40m_swan2noswan_nomet\"]\n",
    "ncfous = [\"maxele_max_costal_and_runoff.63.nc\"]\n",
    "\n",
    "# toexclude = ['depth', 'zeta_max', 'time_of_zeta_max']\n",
    "toexclude = ['time_of_zeta_max']\n",
    "\n",
    "for i in range(len(cases1)):\n",
    "    print(i)\n",
    "    ncfname_in1 = path.join(basedir, cases1[i], 'maxele.63.nc')\n",
    "    ncfname_in2 = path.join(basedir, cases2[i], 'maxele.63.nc')\n",
    "    ncfname_ou = path.join(basedir, cases1[i], ncfous[i])\n",
    "    add_max_of_max(ncfname_in1, ncfname_in2, ncfname_ou, toexclude)\n",
    "\n"
   ]
  }
 ],
 "metadata": {
  "kernelspec": {
   "display_name": "vew1d_3.11",
   "language": "python",
   "name": "python3"
  },
  "language_info": {
   "codemirror_mode": {
    "name": "ipython",
    "version": 3
   },
   "file_extension": ".py",
   "mimetype": "text/x-python",
   "name": "python",
   "nbconvert_exporter": "python",
   "pygments_lexer": "ipython3",
   "version": "3.11.10"
  },
  "orig_nbformat": 4
 },
 "nbformat": 4,
 "nbformat_minor": 2
}
